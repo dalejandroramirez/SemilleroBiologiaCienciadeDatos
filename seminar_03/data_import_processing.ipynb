{
 "cells": [
  {
   "cell_type": "markdown",
   "metadata": {},
   "source": [
    "# Some Python tips that may help you with the task (the details of the final output file will be provided soon)"
   ]
  },
  {
   "cell_type": "markdown",
   "metadata": {},
   "source": [
    "#### after downloading the source files from here (https://mega.nz/folder/fBtmzTTD#UP8gpeKfeCsb8EB2CJgBjg)\n",
    "#### make sure that the two source files are in the same directory as your script (or change the path)"
   ]
  },
  {
   "cell_type": "code",
   "execution_count": 1,
   "metadata": {
    "cell_id": "f01e27f94a624cffb293d75e5f98fcd0",
    "deepnote_cell_height": 130.890625,
    "deepnote_cell_type": "code",
    "deepnote_to_be_reexecuted": false,
    "execution_millis": 657,
    "execution_start": 1659716665654,
    "source_hash": "ad8f3ca4",
    "tags": []
   },
   "outputs": [
    {
     "name": "stdout",
     "output_type": "stream",
     "text": [
      "PC_adi_lorfs.pep  data_import_processing.ipynb\toutput.txt\r\n"
     ]
    }
   ],
   "source": [
    "!ls"
   ]
  },
  {
   "cell_type": "markdown",
   "metadata": {},
   "source": [
    "#### open the file, read it"
   ]
  },
  {
   "cell_type": "code",
   "execution_count": 2,
   "metadata": {
    "cell_id": "db1780d366404463b9d94e59303559a2",
    "deepnote_cell_height": 94,
    "deepnote_cell_type": "code",
    "deepnote_to_be_reexecuted": false,
    "execution_millis": 30,
    "execution_start": 1659716812993,
    "source_hash": "e6a10635",
    "tags": []
   },
   "outputs": [],
   "source": [
    "with open('PC_adi_lorfs.pep','r') as f:\n",
    "    contents=f.read()"
   ]
  },
  {
   "cell_type": "markdown",
   "metadata": {},
   "source": [
    "#### split the file into new lines and each line will be an element of a list"
   ]
  },
  {
   "cell_type": "code",
   "execution_count": 3,
   "metadata": {
    "cell_id": "6ddebdf34cec4b02898541f6f72239eb",
    "deepnote_cell_height": 76,
    "deepnote_cell_type": "code",
    "deepnote_to_be_reexecuted": false,
    "execution_millis": 2,
    "execution_start": 1659716863921,
    "source_hash": "563a5337",
    "tags": []
   },
   "outputs": [],
   "source": [
    "contents_lines=contents.split('\\n')"
   ]
  },
  {
   "cell_type": "markdown",
   "metadata": {},
   "source": [
    "#### we can see how many elements (lines) has the list"
   ]
  },
  {
   "cell_type": "code",
   "execution_count": 4,
   "metadata": {
    "cell_id": "6adeced1e09541b1b1556d55230512a1",
    "deepnote_cell_height": 113.1875,
    "deepnote_cell_type": "code",
    "deepnote_output_heights": [
     21.1875
    ],
    "deepnote_to_be_reexecuted": false,
    "execution_millis": 11,
    "execution_start": 1659716913903,
    "source_hash": "c9b43014",
    "tags": []
   },
   "outputs": [
    {
     "data": {
      "text/plain": [
       "95613"
      ]
     },
     "execution_count": 4,
     "metadata": {},
     "output_type": "execute_result"
    }
   ],
   "source": [
    "len(contents_lines)"
   ]
  },
  {
   "cell_type": "markdown",
   "metadata": {},
   "source": [
    "#### we can access a single line"
   ]
  },
  {
   "cell_type": "code",
   "execution_count": 5,
   "metadata": {
    "cell_id": "da755b55831e42729860f379b39583ba",
    "deepnote_cell_height": 113.1875,
    "deepnote_cell_type": "code",
    "deepnote_output_heights": [
     21.1875
    ],
    "deepnote_to_be_reexecuted": false,
    "execution_millis": 0,
    "execution_start": 1659716937532,
    "source_hash": "a1096a82",
    "tags": []
   },
   "outputs": [
    {
     "data": {
      "text/plain": [
       "'>unknown_transcript_1|m.1 unknown_transcript_1|g.1 type:complete len:399 gc:universal unknown_transcript_1:13813-15009(+)'"
      ]
     },
     "execution_count": 5,
     "metadata": {},
     "output_type": "execute_result"
    }
   ],
   "source": [
    "contents_lines[0]"
   ]
  },
  {
   "cell_type": "code",
   "execution_count": 6,
   "metadata": {
    "cell_id": "dac26eb3e2d94bb0a3f6e66a5b64090e",
    "deepnote_cell_height": 113.1875,
    "deepnote_cell_type": "code",
    "deepnote_output_heights": [
     21.1875
    ],
    "deepnote_to_be_reexecuted": false,
    "execution_millis": 89,
    "execution_start": 1659716995829,
    "source_hash": "b92a9020",
    "tags": []
   },
   "outputs": [
    {
     "data": {
      "text/plain": [
       "'EEKTERQERIKQKTAELQELILQQIAFKNLVQRNKQVEKEQGSPAPNTAIHLPFIIVNTSKKTVIDCSISNDKCEYLFNFDNTFEIHDDIEVLKRMGMAFGLEKGQCAEANLKASRTMVPKALEPYVVDMAKSGPVGLGGNLGNHTTPK*'"
      ]
     },
     "execution_count": 6,
     "metadata": {},
     "output_type": "execute_result"
    }
   ],
   "source": [
    "contents_lines[-2]"
   ]
  },
  {
   "cell_type": "markdown",
   "metadata": {},
   "source": [
    "#### or access many (10) lines using a loop"
   ]
  },
  {
   "cell_type": "code",
   "execution_count": 7,
   "metadata": {
    "cell_id": "4bea43679ce447f19220c5bf8d6ba73a",
    "deepnote_cell_height": 306.453125,
    "deepnote_cell_type": "code",
    "deepnote_to_be_reexecuted": false,
    "execution_millis": 38,
    "execution_start": 1659717036209,
    "source_hash": "b8a87096",
    "tags": []
   },
   "outputs": [
    {
     "name": "stdout",
     "output_type": "stream",
     "text": [
      ">unknown_transcript_1|m.1 unknown_transcript_1|g.1 type:complete len:399 gc:universal unknown_transcript_1:13813-15009(+)\n",
      "MKSLYVVRWGFSTNHKDIGTLYLVFGIGAGMIGTAFSMLIRLELSAPGAMLGDDHLYNVIVTAHAFIMIFFLVMPVMIGGFGNWLVPLYIGAPDMAFPRLNNISFWLLPPALILLLGSAFVEQGVGTGWTVYPPLSSIQAHSGGAVDMAIFSLHLAGVSSILGAMNFITTILNMRAPGMTLNKMPLFVWSILITAFLLLLSLPVLAGAITMLLTDRNFNTTFFDPAGGGDPILFQHLFWFFGHPEVYILILPGFGMISQIIPTFVAKKQIFGYLGMVYAMLSIGILGFIVWAHHMFTVGMDVDTRAYFTAATMIIAVPTGIKVFSWLATIFGGTLRLDTPMLWAMGFVFLFTLGGLTGVVLANSSLDVVLHDTYYVVAHFHYVLSMGAVFAIFGGFYY*\n",
      ">unknown_transcript_1|m.2 unknown_transcript_1|g.2 type:complete len:233 gc:universal unknown_transcript_1:6886-7584(+)\n",
      "MSGAYFDQFKIVALIALTNSSMMMILVVVVVLLLFKGVQLIPKRWQSLIELIYEHFHGVVKDNLGSEGLRYFPLIVSLFFFIVFLNVLGLFPYVFTPTVHIVVTLGLSFSIIIGVTLAGFWRFKGDFFSVFMPSGAPLGLAPLLVLIETVSFISRAISLGVRLAANLSAGHLLFAILAGFGFNMLVASGPVGVFPLLIMVFITLLEVAVAVIQAYVFCLLATIYLADTIVLH*\n",
      ">unknown_transcript_1|m.3 unknown_transcript_1|g.3 type:complete len:212 gc:universal unknown_transcript_1:5539-6174(+)\n",
      "MWAPDVYDGAPTTTTALLATVPKVGYFSILVSIGSAVNILLVGALFSMVVGAIGALNQTKVKRLLAYSGVGHMGFVLWGIEVGSFESIQASLIYVVLYVVMSICVFAIILTLGAAKNLIVEFSGLSRRLSVLALTLALTFLSIAGIPPLVGFWGKWLVLLSGVVYQYYLVFLLAVMCSVVAGVYYVRIVKIIYFQASFSLLISSKVLRKEN*\n",
      ">unknown_transcript_1|m.4 unknown_transcript_1|g.4 type:complete len:208 gc:universal unknown_transcript_1:8437-9060(+)\n",
      "MLGVVAIIYGGLLTCRQVDFKRLIAYSSVAHMGLVPLGLFTHTIEGLVAAVFMMLAHGFVSSALFIAITYLYERHHTRLIKYYRGVTLTMPVFVCIMMVLSLSNMGIPLSCNFVGEFFSLLAAVEYNFGLGVLATSGMVWSAAYSLYLYNRISFGAASNYLLFIRDLNRCELLAISPLLIAIFIFGIFPFIIIDPVKNGVIFSPGGG*\n",
      ">unknown_transcript_1|m.5 unknown_transcript_1|g.5 type:complete len:159 gc:universal unknown_transcript_1:12463-12939(+)\n",
      "MVTAGVFLLIRSSPFFEQAPLALMIVTIVGSLTVLFAATVGVIQNDLKKVIAYSTCSQLGYMVVACGLSHYSISLFHLMNHAFFKALLFLSAGSVIHALSDEQDIRKMGGLIKLIPLTYIMVVVGSLSLMGFPYLTGFYSKDLILELAFEQYYLTFAY*\n"
     ]
    }
   ],
   "source": [
    "for line in contents_lines[0:10]:\n",
    "    print(line)"
   ]
  },
  {
   "cell_type": "markdown",
   "metadata": {},
   "source": [
    "#### same as above: access many (10) lines using a loop and exit using counter and a condition"
   ]
  },
  {
   "cell_type": "code",
   "execution_count": 8,
   "metadata": {
    "cell_id": "fa8cd1aca6c34542a150b7d20470a680",
    "deepnote_cell_height": 398.140625,
    "deepnote_cell_type": "code",
    "deepnote_to_be_reexecuted": false,
    "execution_millis": 2,
    "execution_start": 1659717121316,
    "source_hash": "f0c50e22",
    "tags": []
   },
   "outputs": [
    {
     "name": "stdout",
     "output_type": "stream",
     "text": [
      ">unknown_transcript_1|m.1 unknown_transcript_1|g.1 type:complete len:399 gc:universal unknown_transcript_1:13813-15009(+)\n",
      "MKSLYVVRWGFSTNHKDIGTLYLVFGIGAGMIGTAFSMLIRLELSAPGAMLGDDHLYNVIVTAHAFIMIFFLVMPVMIGGFGNWLVPLYIGAPDMAFPRLNNISFWLLPPALILLLGSAFVEQGVGTGWTVYPPLSSIQAHSGGAVDMAIFSLHLAGVSSILGAMNFITTILNMRAPGMTLNKMPLFVWSILITAFLLLLSLPVLAGAITMLLTDRNFNTTFFDPAGGGDPILFQHLFWFFGHPEVYILILPGFGMISQIIPTFVAKKQIFGYLGMVYAMLSIGILGFIVWAHHMFTVGMDVDTRAYFTAATMIIAVPTGIKVFSWLATIFGGTLRLDTPMLWAMGFVFLFTLGGLTGVVLANSSLDVVLHDTYYVVAHFHYVLSMGAVFAIFGGFYY*\n",
      ">unknown_transcript_1|m.2 unknown_transcript_1|g.2 type:complete len:233 gc:universal unknown_transcript_1:6886-7584(+)\n",
      "MSGAYFDQFKIVALIALTNSSMMMILVVVVVLLLFKGVQLIPKRWQSLIELIYEHFHGVVKDNLGSEGLRYFPLIVSLFFFIVFLNVLGLFPYVFTPTVHIVVTLGLSFSIIIGVTLAGFWRFKGDFFSVFMPSGAPLGLAPLLVLIETVSFISRAISLGVRLAANLSAGHLLFAILAGFGFNMLVASGPVGVFPLLIMVFITLLEVAVAVIQAYVFCLLATIYLADTIVLH*\n",
      ">unknown_transcript_1|m.3 unknown_transcript_1|g.3 type:complete len:212 gc:universal unknown_transcript_1:5539-6174(+)\n",
      "MWAPDVYDGAPTTTTALLATVPKVGYFSILVSIGSAVNILLVGALFSMVVGAIGALNQTKVKRLLAYSGVGHMGFVLWGIEVGSFESIQASLIYVVLYVVMSICVFAIILTLGAAKNLIVEFSGLSRRLSVLALTLALTFLSIAGIPPLVGFWGKWLVLLSGVVYQYYLVFLLAVMCSVVAGVYYVRIVKIIYFQASFSLLISSKVLRKEN*\n",
      ">unknown_transcript_1|m.4 unknown_transcript_1|g.4 type:complete len:208 gc:universal unknown_transcript_1:8437-9060(+)\n",
      "MLGVVAIIYGGLLTCRQVDFKRLIAYSSVAHMGLVPLGLFTHTIEGLVAAVFMMLAHGFVSSALFIAITYLYERHHTRLIKYYRGVTLTMPVFVCIMMVLSLSNMGIPLSCNFVGEFFSLLAAVEYNFGLGVLATSGMVWSAAYSLYLYNRISFGAASNYLLFIRDLNRCELLAISPLLIAIFIFGIFPFIIIDPVKNGVIFSPGGG*\n",
      ">unknown_transcript_1|m.5 unknown_transcript_1|g.5 type:complete len:159 gc:universal unknown_transcript_1:12463-12939(+)\n",
      "MVTAGVFLLIRSSPFFEQAPLALMIVTIVGSLTVLFAATVGVIQNDLKKVIAYSTCSQLGYMVVACGLSHYSISLFHLMNHAFFKALLFLSAGSVIHALSDEQDIRKMGGLIKLIPLTYIMVVVGSLSLMGFPYLTGFYSKDLILELAFEQYYLTFAY*\n",
      ">unknown_transcript_1|m.6 unknown_transcript_1|g.6 type:complete len:138 gc:universal unknown_transcript_1:11332-11745(+)\n"
     ]
    }
   ],
   "source": [
    "counter=0\n",
    "for line in contents_lines:\n",
    "    print(line)\n",
    "    counter=counter+1\n",
    "    if counter>10:\n",
    "        break"
   ]
  },
  {
   "cell_type": "markdown",
   "metadata": {},
   "source": [
    "#### we can access every second line using trick `[::2]`"
   ]
  },
  {
   "cell_type": "code",
   "execution_count": 9,
   "metadata": {},
   "outputs": [
    {
     "name": "stdout",
     "output_type": "stream",
     "text": [
      ">unknown_transcript_1|m.6 unknown_transcript_1|g.6 type:complete len:138 gc:universal unknown_transcript_1:11332-11745(+)\n",
      ">unknown_transcript_1|m.7 unknown_transcript_1|g.7 type:complete len:137 gc:universal unknown_transcript_1:6249-6659(+)\n",
      ">unknown_transcript_1|m.8 unknown_transcript_1|g.8 type:complete len:130 gc:universal unknown_transcript_1:3427-3816(+)\n",
      ">MSTRG.1.3|m.9 MSTRG.1.3|g.9 type:complete len:138 gc:universal MSTRG.1.3:3434-3847(+)\n",
      ">MSTRG.1.3|m.10 MSTRG.1.3|g.10 type:complete len:109 gc:universal MSTRG.1.3:1727-2053(+)\n"
     ]
    }
   ],
   "source": [
    "for line in contents_lines[10:20][::2]:\n",
    "    print(line)"
   ]
  },
  {
   "cell_type": "markdown",
   "metadata": {},
   "source": [
    "#### using regex we can access (extract) a fracion of a text from a single line "
   ]
  },
  {
   "cell_type": "code",
   "execution_count": 10,
   "metadata": {
    "cell_id": "186e6a2fecd644909f95da4f1662490a",
    "deepnote_cell_height": 76,
    "deepnote_cell_type": "code",
    "deepnote_to_be_reexecuted": false,
    "execution_millis": 0,
    "execution_start": 1659717579407,
    "source_hash": "2ca4a906",
    "tags": []
   },
   "outputs": [],
   "source": [
    "regex=r'>(.*)\\|m'"
   ]
  },
  {
   "cell_type": "code",
   "execution_count": 11,
   "metadata": {
    "cell_id": "00e3dfaa61354546a8154e0e2285e782",
    "deepnote_cell_height": 142.6875,
    "deepnote_cell_type": "code",
    "deepnote_to_be_reexecuted": false,
    "execution_millis": 5,
    "execution_start": 1659717579695,
    "source_hash": "ef30fc3e",
    "tags": []
   },
   "outputs": [
    {
     "name": "stdout",
     "output_type": "stream",
     "text": [
      "['MSTRG.1.3']\n"
     ]
    }
   ],
   "source": [
    "import re\n",
    "results=re.findall(regex,contents_lines[18])\n",
    "print(results)"
   ]
  },
  {
   "cell_type": "markdown",
   "metadata": {},
   "source": [
    "#### using regex we can access (extract) a fracion of a text from a many lines using `loop for`"
   ]
  },
  {
   "cell_type": "code",
   "execution_count": 12,
   "metadata": {
    "cell_id": "8729249519bc4da78311de87a38f1d4e",
    "deepnote_cell_height": 61,
    "deepnote_cell_type": "code",
    "tags": []
   },
   "outputs": [
    {
     "name": "stdout",
     "output_type": "stream",
     "text": [
      "['unknown_transcript_1']\n",
      "['unknown_transcript_1']\n",
      "['unknown_transcript_1']\n",
      "['MSTRG.1.3']\n",
      "['MSTRG.1.3']\n"
     ]
    }
   ],
   "source": [
    "for line in contents_lines[10:20][::2]:\n",
    "    results=re.findall(regex,line)\n",
    "    print(results)"
   ]
  },
  {
   "cell_type": "markdown",
   "metadata": {},
   "source": [
    "#### we can concatenate text using operator `+`"
   ]
  },
  {
   "cell_type": "code",
   "execution_count": 13,
   "metadata": {},
   "outputs": [
    {
     "name": "stdout",
     "output_type": "stream",
     "text": [
      "mi proteina es: ['unknown_transcript_1']\n",
      "mi proteina es: ['unknown_transcript_1']\n",
      "mi proteina es: ['unknown_transcript_1']\n",
      "mi proteina es: ['MSTRG.1.3']\n",
      "mi proteina es: ['MSTRG.1.3']\n"
     ]
    }
   ],
   "source": [
    "for line in contents_lines[10:20][::2]:\n",
    "    results=re.findall(regex,line)\n",
    "    otra_cadena='mi proteina es: '\n",
    "    print(otra_cadena+str(results))"
   ]
  },
  {
   "cell_type": "markdown",
   "metadata": {},
   "source": [
    "#### new lines we can save in an another list `result_list` first creating and emply list then appending each line to it using `append`"
   ]
  },
  {
   "cell_type": "code",
   "execution_count": 14,
   "metadata": {},
   "outputs": [],
   "source": [
    "result_list=[]\n",
    "for line in contents_lines[10:20][::2]:\n",
    "    results=re.findall(regex,line)\n",
    "    otra_cadena='mi proteina es: '\n",
    "    final_line=otra_cadena+str(results)\n",
    "    result_list.append(final_line)"
   ]
  },
  {
   "cell_type": "code",
   "execution_count": 15,
   "metadata": {},
   "outputs": [
    {
     "data": {
      "text/plain": [
       "[\"mi proteina es: ['unknown_transcript_1']\",\n",
       " \"mi proteina es: ['unknown_transcript_1']\",\n",
       " \"mi proteina es: ['unknown_transcript_1']\",\n",
       " \"mi proteina es: ['MSTRG.1.3']\",\n",
       " \"mi proteina es: ['MSTRG.1.3']\"]"
      ]
     },
     "execution_count": 15,
     "metadata": {},
     "output_type": "execute_result"
    }
   ],
   "source": [
    "result_list"
   ]
  },
  {
   "cell_type": "markdown",
   "metadata": {},
   "source": [
    "#### we can now save each line to a new output file (we could do it directly in the previous step)"
   ]
  },
  {
   "cell_type": "code",
   "execution_count": 16,
   "metadata": {},
   "outputs": [],
   "source": [
    "with open('output.txt','w') as f:\n",
    "    for line in result_list:\n",
    "        f.write(line+'\\n')"
   ]
  },
  {
   "cell_type": "code",
   "execution_count": 17,
   "metadata": {},
   "outputs": [
    {
     "name": "stdout",
     "output_type": "stream",
     "text": [
      "PC_adi_lorfs.pep  data_import_processing.ipynb\toutput.txt\r\n"
     ]
    }
   ],
   "source": [
    "!ls"
   ]
  },
  {
   "cell_type": "code",
   "execution_count": 18,
   "metadata": {},
   "outputs": [],
   "source": [
    "with open('output.txt','r') as f:\n",
    "    contents2=f.read()"
   ]
  },
  {
   "cell_type": "markdown",
   "metadata": {},
   "source": [
    "#### to see that our results are saved we can load the file and print some lines"
   ]
  },
  {
   "cell_type": "code",
   "execution_count": 19,
   "metadata": {},
   "outputs": [
    {
     "name": "stdout",
     "output_type": "stream",
     "text": [
      "mi proteina es: ['MSTRG.1.3']\n"
     ]
    }
   ],
   "source": [
    "contents_lines2=contents2.split('\\n')\n",
    "print(contents_lines2[3])"
   ]
  },
  {
   "cell_type": "code",
   "execution_count": null,
   "metadata": {},
   "outputs": [],
   "source": []
  }
 ],
 "metadata": {
  "deepnote": {},
  "deepnote_execution_queue": [],
  "deepnote_notebook_id": "9295284a-17ae-4371-8449-486ff4a5f609",
  "kernelspec": {
   "display_name": "Python 3",
   "language": "python",
   "name": "python3"
  },
  "language_info": {
   "codemirror_mode": {
    "name": "ipython",
    "version": 3
   },
   "file_extension": ".py",
   "mimetype": "text/x-python",
   "name": "python",
   "nbconvert_exporter": "python",
   "pygments_lexer": "ipython3",
   "version": "3.7.2"
  }
 },
 "nbformat": 4,
 "nbformat_minor": 2
}
